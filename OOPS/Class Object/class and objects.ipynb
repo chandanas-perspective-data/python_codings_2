{
 "cells": [
  {
   "cell_type": "markdown",
   "id": "611842e8",
   "metadata": {},
   "source": [
    "Class and object"
   ]
  },
  {
   "cell_type": "code",
   "execution_count": 1,
   "id": "8d9dd66a",
   "metadata": {},
   "outputs": [
    {
     "name": "stdout",
     "output_type": "stream",
     "text": [
      "Myclass\n"
     ]
    }
   ],
   "source": [
    "# program to create a class\n",
    "\n",
    "class Myclass:  #Creating the class\n",
    "    print(\"Myclass\")"
   ]
  },
  {
   "cell_type": "code",
   "execution_count": 2,
   "id": "4278225c",
   "metadata": {},
   "outputs": [
    {
     "name": "stdout",
     "output_type": "stream",
     "text": [
      "Myclass\n"
     ]
    },
    {
     "data": {
      "text/plain": [
       "<__main__.Myclass at 0x296107ed070>"
      ]
     },
     "execution_count": 2,
     "metadata": {},
     "output_type": "execute_result"
    }
   ],
   "source": [
    "# program to create an object/instance of the class\n",
    "\n",
    "class Myclass:  #Creating the class\n",
    "    print(\"Myclass\")\n",
    "    \n",
    "Myclass()  # creating the object/instance(The process of creating the object/instance is "
   ]
  },
  {
   "cell_type": "code",
   "execution_count": 5,
   "id": "22214f21",
   "metadata": {},
   "outputs": [],
   "source": [
    "# program to understand the constructor\n",
    "\n",
    "class Myclass:\n",
    "    def __init__(self):   # it is the constructor to construct the objects,it invokes automatically when we creat an object/instance. \n",
    "        print(\"hi.......\")          #(if you did not create object/instance constructor doesn't invokes)\n",
    "        \n",
    "        "
   ]
  },
  {
   "cell_type": "code",
   "execution_count": 4,
   "id": "63e7f013",
   "metadata": {},
   "outputs": [
    {
     "name": "stdout",
     "output_type": "stream",
     "text": [
      "hi.......\n"
     ]
    },
    {
     "data": {
      "text/plain": [
       "<__main__.Myclass at 0x296107ed700>"
      ]
     },
     "execution_count": 4,
     "metadata": {},
     "output_type": "execute_result"
    }
   ],
   "source": [
    "# program to understand that, a constructor can only called/invoked when object/instance is created\n",
    "\n",
    "class Myclass:\n",
    "    def __init__(self):   # it is the constructor to construct the objects,it invokes automatically when we creat an object/instance. \n",
    "        print(\"hi.......\")          #(if you did not create object/instance constructor doesn't invokes)\n",
    "        \n",
    "Myclass()  # creating the object/instance       \n",
    "        "
   ]
  },
  {
   "cell_type": "code",
   "execution_count": 6,
   "id": "615e96a6",
   "metadata": {},
   "outputs": [
    {
     "name": "stdout",
     "output_type": "stream",
     "text": [
      "10 20\n"
     ]
    },
    {
     "data": {
      "text/plain": [
       "<__main__.Myclass at 0x296107f1c40>"
      ]
     },
     "execution_count": 6,
     "metadata": {},
     "output_type": "execute_result"
    }
   ],
   "source": [
    "# program to pass arguments to the parameters of the constructor\n",
    "\n",
    "class Myclass:\n",
    "    def __init__(self,a,b):  # constructor with the parameters. we have to pass arguments to this parameter when we create an object/instance\n",
    "        print(a,b)  # in this case \" a \" and \" b \" are the local variables\n",
    "        \n",
    "Myclass(10,20)  #craeting the object/instance and passing arguments to the constructor\n",
    "        "
   ]
  },
  {
   "cell_type": "code",
   "execution_count": 7,
   "id": "fddcbb55",
   "metadata": {},
   "outputs": [
    {
     "name": "stdout",
     "output_type": "stream",
     "text": [
      "20 30\n"
     ]
    }
   ],
   "source": [
    "class Myclass:\n",
    "    def __init__(self,a,b):  # constructor with the parameters. we have to pass arguments to this parameter when we create an object/instance\n",
    "        self.a=a  # creating the instance variable \"a\"\n",
    "        self.b=b  # creating the instance variable \"b\"\n",
    "        print(self.a,self.b)\n",
    "\n",
    "m=Myclass(20,30)  #craeting the object/instance and passing arguments to the constructor\n"
   ]
  },
  {
   "cell_type": "code",
   "execution_count": 8,
   "id": "16372edd",
   "metadata": {},
   "outputs": [
    {
     "name": "stdout",
     "output_type": "stream",
     "text": [
      "20 30 40\n",
      "20 30\n"
     ]
    }
   ],
   "source": [
    "class Myclass:\n",
    "    def __init__(self,a,b,c):  # constructor with the parameters. we have to pass arguments to this parameter when we create an object/instance\n",
    "        self.a=a  # creating the instance variable \"a\"\n",
    "        self.b=b  # creating the instance variable \"b\"\n",
    "        print(a,b,c) # were, \"a\" and \"b\" are local variables\n",
    "        print(self.a,self.b)\n",
    "        \n",
    "m=Myclass(20,30,40)  #craeting the object/instance and passing arguments to the constructor\n",
    "\n",
    "       "
   ]
  },
  {
   "cell_type": "code",
   "execution_count": 9,
   "id": "baedbdcc",
   "metadata": {},
   "outputs": [
    {
     "name": "stdout",
     "output_type": "stream",
     "text": [
      "20\n",
      "1)  1 2\n",
      "2)  1 2\n",
      "20\n",
      "2\n",
      "3\n",
      "1)  1 2\n",
      "1)  1 2\n"
     ]
    }
   ],
   "source": [
    "class A:\n",
    "    x=20 #static/class variable\n",
    "    print(x)\n",
    "    def __init__(self):\n",
    "        self.a=1 #instance variables\n",
    "        self.b=2\n",
    "        print(\"1) \",self.a,self.b)\n",
    "        \n",
    "    def f(self):\n",
    "#         self.c=5\n",
    "#         print(self.c)\n",
    "        print(\"2) \",self.a,self.b)\n",
    "        print(A.x)\n",
    "        \n",
    "a=A() #creating instance \n",
    "a.f()\n",
    "print(a.b)\n",
    "a.b=3\n",
    "print(a.b)\n",
    "\n",
    "c=A()\n",
    "d=A()"
   ]
  },
  {
   "cell_type": "code",
   "execution_count": 10,
   "id": "a80e9d18",
   "metadata": {},
   "outputs": [
    {
     "name": "stdout",
     "output_type": "stream",
     "text": [
      "1\n",
      "2\n",
      "***********************\n",
      "3\n",
      "4\n"
     ]
    }
   ],
   "source": [
    "class A:\n",
    "    def __init__(abc,x,y):\n",
    "        abc.x=x\n",
    "        abc.y=y\n",
    "        print(x)\n",
    "        print(y)\n",
    "        \n",
    "a=A(1,2) \n",
    "print(\"***********************\")\n",
    "b=A(3,4)"
   ]
  },
  {
   "cell_type": "code",
   "execution_count": 11,
   "id": "22029ce1",
   "metadata": {},
   "outputs": [
    {
     "name": "stdout",
     "output_type": "stream",
     "text": [
      "2\n"
     ]
    },
    {
     "data": {
      "text/plain": [
       "<__main__.B at 0x29610845c70>"
      ]
     },
     "execution_count": 11,
     "metadata": {},
     "output_type": "execute_result"
    }
   ],
   "source": [
    "class A:\n",
    "    def __init__(self,a):\n",
    "    \n",
    "        print (\"hi\")\n",
    "\n",
    "\n",
    "class B(A):\n",
    "    def __init__(self,a):\n",
    "        self.a=a\n",
    "        print(a)\n",
    "B(2)\n",
    "\n",
    "# class C(B):\n",
    "#     pass\n",
    "# B()"
   ]
  },
  {
   "cell_type": "code",
   "execution_count": 12,
   "id": "677c1c00",
   "metadata": {},
   "outputs": [
    {
     "name": "stdout",
     "output_type": "stream",
     "text": [
      "20\n",
      "1729\n",
      "10\n",
      "10\n"
     ]
    }
   ],
   "source": [
    "class A:\n",
    "    x=10\n",
    "    def a():\n",
    "        y=20\n",
    "        print(y)\n",
    "    a()\n",
    "    \n",
    "    def f(self,a):\n",
    "        self.a=a\n",
    "        print(a)\n",
    "        print(A.x)\n",
    "\n",
    "A()\n",
    "A().f(1729)\n",
    "print(A.x)"
   ]
  },
  {
   "cell_type": "code",
   "execution_count": 13,
   "id": "6bdc270d",
   "metadata": {},
   "outputs": [
    {
     "name": "stdout",
     "output_type": "stream",
     "text": [
      "hi Mr. JK\n",
      "so, your  26 ,right?\n"
     ]
    }
   ],
   "source": [
    "class Person:\n",
    "    def __init__(self):\n",
    "        self.name = \"JK\"\n",
    "        self.age = 26\n",
    "    def f(self):\n",
    "        print(\"hi Mr.\",self.name)\n",
    "        print(\"so, your \",self.age,\",right?\")\n",
    "   \n",
    "\n",
    "p1 = Person()\n",
    "p1.f()"
   ]
  },
  {
   "cell_type": "code",
   "execution_count": 14,
   "id": "ae712b63",
   "metadata": {},
   "outputs": [
    {
     "name": "stdout",
     "output_type": "stream",
     "text": [
      "2 5\n",
      "2\n",
      "srinivas\n"
     ]
    }
   ],
   "source": [
    "class Class_srinu:\n",
    "    def __init__(self,a,c):\n",
    "        self.a=a\n",
    "        self.c=c\n",
    "        print(self.a ,self.c)\n",
    "    def function(self):\n",
    "        print(\"srinivas\")\n",
    "        \n",
    "    \n",
    "        \n",
    "        \n",
    "a=Class_srinu(2,5)    \n",
    "print(a.a)\n",
    "a.function()"
   ]
  },
  {
   "cell_type": "code",
   "execution_count": 15,
   "id": "4a7dcbce",
   "metadata": {},
   "outputs": [
    {
     "name": "stdout",
     "output_type": "stream",
     "text": [
      "1729\n"
     ]
    },
    {
     "ename": "AttributeError",
     "evalue": "'Person' object has no attribute '__name'",
     "output_type": "error",
     "traceback": [
      "\u001b[1;31m---------------------------------------------------------------------------\u001b[0m",
      "\u001b[1;31mAttributeError\u001b[0m                            Traceback (most recent call last)",
      "\u001b[1;32m~\\AppData\\Local\\Temp/ipykernel_8264/755404279.py\u001b[0m in \u001b[0;36m<module>\u001b[1;34m\u001b[0m\n\u001b[0;32m     12\u001b[0m \u001b[0mprint\u001b[0m\u001b[1;33m(\u001b[0m\u001b[0mp1\u001b[0m\u001b[1;33m.\u001b[0m\u001b[0mage\u001b[0m\u001b[1;33m)\u001b[0m\u001b[1;33m\u001b[0m\u001b[1;33m\u001b[0m\u001b[0m\n\u001b[0;32m     13\u001b[0m \u001b[1;33m\u001b[0m\u001b[0m\n\u001b[1;32m---> 14\u001b[1;33m \u001b[0mprint\u001b[0m\u001b[1;33m(\u001b[0m\u001b[0mp1\u001b[0m\u001b[1;33m.\u001b[0m\u001b[0m__name\u001b[0m\u001b[1;33m)\u001b[0m \u001b[1;31m# gives error\u001b[0m\u001b[1;33m\u001b[0m\u001b[1;33m\u001b[0m\u001b[0m\n\u001b[0m",
      "\u001b[1;31mAttributeError\u001b[0m: 'Person' object has no attribute '__name'"
     ]
    }
   ],
   "source": [
    "\"\"\"\n",
    "restricting the changes in the modifications in the instance var\n",
    "\n",
    "\"\"\"\n",
    "\n",
    "class Person:\n",
    "    def __init__(self, __name, age):\n",
    "        self.__nme = __name\n",
    "        self.age = age\n",
    "\n",
    "p1 = Person(\"math\", 1729)\n",
    "print(p1.age)\n",
    "\n",
    "print(p1.__name) # gives error"
   ]
  },
  {
   "cell_type": "code",
   "execution_count": 16,
   "id": "3229c62e",
   "metadata": {},
   "outputs": [
    {
     "name": "stdout",
     "output_type": "stream",
     "text": [
      "math\n",
      "1729\n",
      "stats\n"
     ]
    }
   ],
   "source": [
    "\"\"\"\n",
    "It does not have to be named self , you can call it whatever you like,\n",
    "but it has to be the first parameter of any function in the class:\n",
    "\n",
    "\"\"\"\n",
    "\n",
    "class Person:\n",
    "  def __init__(py, name, age):\n",
    "    py.name = name\n",
    "    py.age = age\n",
    "\n",
    "p1 = Person(\"math\", 1729)\n",
    "\n",
    "print(p1.name)\n",
    "print(p1.age)\n",
    "p1.name=\"stats\"\n",
    "print(p1.name)"
   ]
  },
  {
   "cell_type": "code",
   "execution_count": 17,
   "id": "16cf22cd",
   "metadata": {},
   "outputs": [
    {
     "name": "stdout",
     "output_type": "stream",
     "text": [
      "10\n",
      "10\n",
      "11\n",
      "11\n"
     ]
    }
   ],
   "source": [
    "# class variables, accessing the out side\n",
    "\n",
    "class A:\n",
    "    x=10\n",
    "    print(x)\n",
    "print(A.x)\n",
    "A.x+=1\n",
    "print(A.x)\n",
    "print(A.x)"
   ]
  },
  {
   "cell_type": "code",
   "execution_count": 18,
   "id": "0c96b896",
   "metadata": {},
   "outputs": [
    {
     "name": "stdout",
     "output_type": "stream",
     "text": [
      "10\n",
      "10\n",
      "11\n",
      "11\n",
      "12\n",
      "11\n"
     ]
    }
   ],
   "source": [
    "# class variables, accessing the out side\n",
    "\n",
    "class A:\n",
    "    x=10\n",
    "    print(x)\n",
    "print(A.x)\n",
    "A.x+=1\n",
    "print(A.x)\n",
    "\n",
    "a1=A()\n",
    "print(a1.x)\n",
    "a1.x+=1\n",
    "print(a1.x)\n",
    "a2=A()\n",
    "print(a2.x)"
   ]
  },
  {
   "cell_type": "code",
   "execution_count": null,
   "id": "f65a3863",
   "metadata": {},
   "outputs": [],
   "source": []
  }
 ],
 "metadata": {
  "kernelspec": {
   "display_name": "Python 3 (ipykernel)",
   "language": "python",
   "name": "python3"
  },
  "language_info": {
   "codemirror_mode": {
    "name": "ipython",
    "version": 3
   },
   "file_extension": ".py",
   "mimetype": "text/x-python",
   "name": "python",
   "nbconvert_exporter": "python",
   "pygments_lexer": "ipython3",
   "version": "3.9.7"
  }
 },
 "nbformat": 4,
 "nbformat_minor": 5
}
