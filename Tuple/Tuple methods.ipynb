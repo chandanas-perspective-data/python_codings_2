{
 "cells": [
  {
   "cell_type": "markdown",
   "id": "cc771753",
   "metadata": {},
   "source": [
    "### Tuple"
   ]
  },
  {
   "cell_type": "markdown",
   "id": "64e560a9",
   "metadata": {},
   "source": [
    "Tuple is a sequence which stores a group of elements or items .\n",
    "\n",
    "or tuples are used ti store multiple items in a single variable.\n",
    "\n",
    "tuple is immutable, which is ordered and unchangeable.\n",
    "\n",
    "methods\n",
    "1) count()\n",
    "2) index()"
   ]
  },
  {
   "cell_type": "code",
   "execution_count": 4,
   "id": "bf1e8e05",
   "metadata": {},
   "outputs": [
    {
     "name": "stdout",
     "output_type": "stream",
     "text": [
      "[1, 2, 2, 2, 2, 2, 3, 4, 6, 6, 7]\n"
     ]
    }
   ],
   "source": [
    "tuple1=(1,2,2,2,2,2,4,3,6,6,7)\n",
    "print(sorted(tuple1))"
   ]
  },
  {
   "cell_type": "code",
   "execution_count": 9,
   "id": "db2d9df3",
   "metadata": {},
   "outputs": [
    {
     "name": "stdout",
     "output_type": "stream",
     "text": [
      "2\n"
     ]
    }
   ],
   "source": [
    "# count()  Return number of occurrences of value.\n",
    "tuple1=(\"a\",\"c\",\"c\",\"a\",\"b\",\"b\",\"c\")\n",
    "x=tuple1.count('a')\n",
    "print(x)"
   ]
  },
  {
   "cell_type": "code",
   "execution_count": 12,
   "id": "b492bc6a",
   "metadata": {},
   "outputs": [
    {
     "name": "stdout",
     "output_type": "stream",
     "text": [
      "{'a': 2, 'c': 3, 'b': 2}\n"
     ]
    }
   ],
   "source": [
    "tuple1=(\"a\",\"c\",\"c\",\"a\",\"b\",\"b\",\"c\")\n",
    "x={}\n",
    "for i in tuple1:\n",
    "    x[i]=tuple1.count(i)\n",
    "print(x)"
   ]
  },
  {
   "cell_type": "code",
   "execution_count": 13,
   "id": "a339a63a",
   "metadata": {},
   "outputs": [
    {
     "name": "stdout",
     "output_type": "stream",
     "text": [
      "{1: 1, 2: 1, 3: 6, 4: 3, 5: 1, 6: 2, 7: 1}\n"
     ]
    }
   ],
   "source": [
    "x=(1,2,3,3,3,3,3,3,4,4,4,5,6,6,7)\n",
    "print({i:x.count(i) for i in set(x)})"
   ]
  },
  {
   "cell_type": "code",
   "execution_count": 20,
   "id": "e9fd833b",
   "metadata": {},
   "outputs": [
    {
     "data": {
      "text/plain": [
       "4"
      ]
     },
     "execution_count": 20,
     "metadata": {},
     "output_type": "execute_result"
    }
   ],
   "source": [
    "# index()Return first index of value. Raises ValueError if the value is not present.\n",
    "tup=(1,2,3,4,5,6,7,4,5,6,9)\n",
    "tup[0]\n",
    "tup[3]"
   ]
  },
  {
   "cell_type": "code",
   "execution_count": 21,
   "id": "9fd4ed90",
   "metadata": {},
   "outputs": [
    {
     "name": "stdout",
     "output_type": "stream",
     "text": [
      "2\n"
     ]
    }
   ],
   "source": [
    "print(tup.index(3)) # position"
   ]
  },
  {
   "cell_type": "code",
   "execution_count": 22,
   "id": "f63a6339",
   "metadata": {},
   "outputs": [
    {
     "name": "stdout",
     "output_type": "stream",
     "text": [
      "2\n"
     ]
    }
   ],
   "source": [
    "tuple_1=(\"apple\",\"banana\",\"orange\",\"apple\",\"pineapple\")\n",
    "y=tuple_1.count('apple')\n",
    "print(y)"
   ]
  },
  {
   "cell_type": "code",
   "execution_count": 23,
   "id": "bdc1d619",
   "metadata": {},
   "outputs": [
    {
     "name": "stdout",
     "output_type": "stream",
     "text": [
      "('apple', 'banana', 'orange', 'apple', 'pineapple', 'apple', 'banana', 'orange', 'apple', 'pineapple', 'apple', 'banana', 'orange', 'apple', 'pineapple')\n"
     ]
    }
   ],
   "source": [
    "tuple_1=(\"apple\",\"banana\",\"orange\",\"apple\",\"pineapple\")\n",
    "tup=tuple_1*3\n",
    "print(tup)"
   ]
  },
  {
   "cell_type": "code",
   "execution_count": 24,
   "id": "64bb4863",
   "metadata": {},
   "outputs": [
    {
     "name": "stdout",
     "output_type": "stream",
     "text": [
      "(1, 2, 3, 4, 5, 1, 2, 3, 4, 5, 1, 2, 3, 4, 5)\n"
     ]
    }
   ],
   "source": [
    "x=(1,2,3,4,5,)\n",
    "y=x*3\n",
    "print(y)"
   ]
  },
  {
   "cell_type": "code",
   "execution_count": 25,
   "id": "994d3f5b",
   "metadata": {},
   "outputs": [
    {
     "name": "stdout",
     "output_type": "stream",
     "text": [
      "8\n"
     ]
    }
   ],
   "source": [
    "tup1=(1,2,3,4,5,6,7,8)\n",
    "print(len(tup1))"
   ]
  },
  {
   "cell_type": "code",
   "execution_count": 26,
   "id": "e08d5549",
   "metadata": {},
   "outputs": [
    {
     "name": "stdout",
     "output_type": "stream",
     "text": [
      "1\n"
     ]
    }
   ],
   "source": [
    "tup1=(1,4,5,3,6,7,1,12,4,6,8)\n",
    "print(min(tup1))"
   ]
  },
  {
   "cell_type": "code",
   "execution_count": 27,
   "id": "61a8211d",
   "metadata": {},
   "outputs": [
    {
     "name": "stdout",
     "output_type": "stream",
     "text": [
      "14\n"
     ]
    }
   ],
   "source": [
    "tup1=(1,1,2,3,4,5,12,14)\n",
    "print(max(tup1))"
   ]
  },
  {
   "cell_type": "code",
   "execution_count": 28,
   "id": "a1104516",
   "metadata": {},
   "outputs": [
    {
     "name": "stdout",
     "output_type": "stream",
     "text": [
      "(14, 12, 5, 4, 3, 2, 1, 1)\n"
     ]
    }
   ],
   "source": [
    "tup1=(1,1,2,3,4,5,12,14)\n",
    "tup1=tup1[::-1]\n",
    "print(tup1)"
   ]
  },
  {
   "cell_type": "code",
   "execution_count": 31,
   "id": "6615916b",
   "metadata": {},
   "outputs": [
    {
     "name": "stdout",
     "output_type": "stream",
     "text": [
      "2\n"
     ]
    }
   ],
   "source": [
    "tup1=(\"orange\",[1,2,3],[4,5,6])\n",
    "print(tup1[1])"
   ]
  }
 ],
 "metadata": {
  "kernelspec": {
   "display_name": "Python 3 (ipykernel)",
   "language": "python",
   "name": "python3"
  },
  "language_info": {
   "codemirror_mode": {
    "name": "ipython",
    "version": 3
   },
   "file_extension": ".py",
   "mimetype": "text/x-python",
   "name": "python",
   "nbconvert_exporter": "python",
   "pygments_lexer": "ipython3",
   "version": "3.9.7"
  }
 },
 "nbformat": 4,
 "nbformat_minor": 5
}
