{
 "cells": [
  {
   "cell_type": "markdown",
   "id": "84020842",
   "metadata": {},
   "source": [
    "### list\n",
    "In python ,A List is created by placing elements inside  Square Brackets[],Separeted by commas.\n",
    "List is ordered and changeable,and Mutable."
   ]
  },
  {
   "cell_type": "code",
   "execution_count": 3,
   "id": "48d0382c",
   "metadata": {},
   "outputs": [
    {
     "name": "stdout",
     "output_type": "stream",
     "text": [
      "['a', 'b', 'c', 'd', 'e', 'f', 'g']\n"
     ]
    }
   ],
   "source": [
    "# append() append object to the end of the list\n",
    "list1=[ 'a','b','c','d','e','f']\n",
    "list1.append('g')\n",
    "print(list1)"
   ]
  },
  {
   "cell_type": "code",
   "execution_count": 4,
   "id": "2965e10f",
   "metadata": {},
   "outputs": [
    {
     "name": "stdout",
     "output_type": "stream",
     "text": [
      "[]\n"
     ]
    }
   ],
   "source": [
    "# clear()  remove all items from the list\n",
    "list1.clear()\n",
    "print(list1)"
   ]
  },
  {
   "cell_type": "code",
   "execution_count": 16,
   "id": "896419dd",
   "metadata": {},
   "outputs": [
    {
     "name": "stdout",
     "output_type": "stream",
     "text": [
      "['a', 'b', 'c', 'd', 'e', 'f']\n"
     ]
    }
   ],
   "source": [
    "# copy() copy the all the list elements into new list\n",
    "\n",
    "list1=[ 'a','b','c','d','e','f']\n",
    "list2=list1.copy()\n",
    "print(list2)\n",
    "\n"
   ]
  },
  {
   "cell_type": "code",
   "execution_count": 17,
   "id": "4fe7d299",
   "metadata": {},
   "outputs": [
    {
     "name": "stdout",
     "output_type": "stream",
     "text": [
      "3\n",
      "2\n"
     ]
    }
   ],
   "source": [
    "# count() return number of occurrences of the valuelist1.count()\n",
    "list=[1,2,3,3,3,4,5,5,6,6]\n",
    "print(list.count(3))\n",
    "print(list.count(5))"
   ]
  },
  {
   "cell_type": "code",
   "execution_count": 22,
   "id": "bc574b5b",
   "metadata": {},
   "outputs": [
    {
     "name": "stdout",
     "output_type": "stream",
     "text": [
      "{1: 1, 2: 1, 3: 3, 4: 1, 5: 2, 6: 2}\n"
     ]
    }
   ],
   "source": [
    "print({i: list.count(i) for i in list})"
   ]
  },
  {
   "cell_type": "code",
   "execution_count": 23,
   "id": "d8cba269",
   "metadata": {},
   "outputs": [
    {
     "name": "stdout",
     "output_type": "stream",
     "text": [
      "['a', 'b', 'c', 'd', 'e', 'f', 1, 2, 3, 3, 3, 4, 5, 5, 6, 6]\n"
     ]
    }
   ],
   "source": [
    "# extend() Extend list by appending elements from the iterable.\n",
    "list=[1,2,3,3,3,4,5,5,6,6]\n",
    "list2.extend(list)\n",
    "print(list2)"
   ]
  },
  {
   "cell_type": "code",
   "execution_count": 32,
   "id": "cd72cafc",
   "metadata": {},
   "outputs": [
    {
     "name": "stdout",
     "output_type": "stream",
     "text": [
      "8\n"
     ]
    }
   ],
   "source": [
    "# index() Return first index of value.\n",
    "# Raises ValueError if the value is not present.\n",
    "list=[1,2,3,3,3,4,5,5,6,6]\n",
    "print(list.index(6))\n",
    "      "
   ]
  },
  {
   "cell_type": "code",
   "execution_count": 39,
   "id": "5e3af0a7",
   "metadata": {},
   "outputs": [
    {
     "name": "stdout",
     "output_type": "stream",
     "text": [
      "[7, 1, 2, 3, 3, 3, 4, 5, 5, 6, 6]\n"
     ]
    }
   ],
   "source": [
    "# insert() Insert object before index.\n",
    "list=[1,2,3,3,3,4,5,5,6,6] \n",
    "list.insert(0,7)\n",
    "print(list)\n",
    "    "
   ]
  },
  {
   "cell_type": "code",
   "execution_count": 44,
   "id": "b3933b25",
   "metadata": {},
   "outputs": [
    {
     "name": "stdout",
     "output_type": "stream",
     "text": [
      "7\n"
     ]
    }
   ],
   "source": [
    "# pop() Remove and return item at index (default last).\n",
    "    \n",
    "       #Raises IndexError if list is empty or index is out of range.\n",
    "list=[1,2,3,3,3,4,5,5,6,6,7]\n",
    "print(list.pop())\n",
    "\n",
    "\n"
   ]
  },
  {
   "cell_type": "code",
   "execution_count": 50,
   "id": "67e05042",
   "metadata": {},
   "outputs": [
    {
     "name": "stdout",
     "output_type": "stream",
     "text": [
      "[1, 2, 3, 3, 3, 4, 5, 5, 6, 6, 7]\n"
     ]
    }
   ],
   "source": [
    "# sort() Sort the list in ascending order and return None.\n",
    "list=[1,2,3,3,3,4,5,5,6,6,7]\n",
    "list.sort()\n",
    "print(list)\n"
   ]
  },
  {
   "cell_type": "code",
   "execution_count": 51,
   "id": "f82628ea",
   "metadata": {},
   "outputs": [
    {
     "name": "stdout",
     "output_type": "stream",
     "text": [
      "[7, 6, 6, 5, 5, 4, 3, 3, 3, 2, 1]\n"
     ]
    }
   ],
   "source": [
    "# reverse()\n",
    "list=[1,2,3,3,3,4,5,5,6,6,7]\n",
    "list.reverse()\n",
    "print(list)"
   ]
  },
  {
   "cell_type": "code",
   "execution_count": null,
   "id": "52701277",
   "metadata": {},
   "outputs": [],
   "source": []
  }
 ],
 "metadata": {
  "kernelspec": {
   "display_name": "Python 3 (ipykernel)",
   "language": "python",
   "name": "python3"
  },
  "language_info": {
   "codemirror_mode": {
    "name": "ipython",
    "version": 3
   },
   "file_extension": ".py",
   "mimetype": "text/x-python",
   "name": "python",
   "nbconvert_exporter": "python",
   "pygments_lexer": "ipython3",
   "version": "3.9.7"
  }
 },
 "nbformat": 4,
 "nbformat_minor": 5
}
