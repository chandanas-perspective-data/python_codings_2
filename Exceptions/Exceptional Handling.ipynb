{
 "cells": [
  {
   "cell_type": "markdown",
   "id": "e050e273",
   "metadata": {},
   "source": [
    "### Exceptional \n"
   ]
  },
  {
   "cell_type": "markdown",
   "id": "984bea66",
   "metadata": {},
   "source": [
    "Exceptional : An unwanted and unexpected event that disturb the normal flow of the program  execution is called 'Exceptional'.\n",
    "\n",
    "Exceptional Handling: providing the alternative way of the smmoth execution of the program.\n",
    "\n",
    "If None of the methods or functions or lines are handled the exception ,The python interpreter invokes the 'Default Execptional Handler' to print the corresponding information on the consol.\n",
    "1) The lines at which the Exception raised\n",
    "2) Exception Name\n",
    "3) Exception Description"
   ]
  },
  {
   "cell_type": "code",
   "execution_count": 1,
   "id": "e82eedac",
   "metadata": {},
   "outputs": [
    {
     "ename": "ZeroDivisionError",
     "evalue": "division by zero",
     "output_type": "error",
     "traceback": [
      "\u001b[1;31m---------------------------------------------------------------------------\u001b[0m",
      "\u001b[1;31mZeroDivisionError\u001b[0m                         Traceback (most recent call last)",
      "\u001b[1;32m~\\AppData\\Local\\Temp/ipykernel_11440/1369854065.py\u001b[0m in \u001b[0;36m<module>\u001b[1;34m\u001b[0m\n\u001b[0;32m      1\u001b[0m \u001b[1;31m# Program_1\u001b[0m\u001b[1;33m\u001b[0m\u001b[1;33m\u001b[0m\u001b[0m\n\u001b[0;32m      2\u001b[0m \u001b[1;33m\u001b[0m\u001b[0m\n\u001b[1;32m----> 3\u001b[1;33m \u001b[0mprint\u001b[0m\u001b[1;33m(\u001b[0m\u001b[1;36m10\u001b[0m\u001b[1;33m/\u001b[0m\u001b[1;36m0\u001b[0m\u001b[1;33m)\u001b[0m  \u001b[1;31m# this statement raise an error\u001b[0m\u001b[1;33m\u001b[0m\u001b[1;33m\u001b[0m\u001b[0m\n\u001b[0m",
      "\u001b[1;31mZeroDivisionError\u001b[0m: division by zero"
     ]
    }
   ],
   "source": [
    "# Program_1\n",
    "\n",
    "print(10/0)  # this statement raise an error"
   ]
  },
  {
   "cell_type": "code",
   "execution_count": 2,
   "id": "945488b1",
   "metadata": {},
   "outputs": [
    {
     "name": "stdout",
     "output_type": "stream",
     "text": [
      "handling the eror : Method-1 :-\n",
      "we are not able to divide a number by zero. \n",
      "handling the eror : Method-2 :-\n",
      "division by zero\n"
     ]
    }
   ],
   "source": [
    "# Program_2\n",
    "\n",
    "\"\"\"\n",
    "so, this is the way to hadle the above error\n",
    "\n",
    "\"\"\"\n",
    "print(\"handling the eror : Method-1 :-\")\n",
    "try:\n",
    "    print(10/0)  # raise exception\n",
    "except:\n",
    "    print(\"we are not able to divide a number by zero. \")\n",
    "    \n",
    "    \n",
    "print(\"handling the eror : Method-2 :-\")\n",
    "try:\n",
    "    print(10/0)  # raise exception\n",
    "except ZeroDivisionError as d:\n",
    "    print(d)  # this line gives the Exception Description as output. \n",
    "\n",
    "    \n",
    "    "
   ]
  },
  {
   "cell_type": "code",
   "execution_count": 3,
   "id": "062f3006",
   "metadata": {
    "scrolled": true
   },
   "outputs": [
    {
     "name": "stdout",
     "output_type": "stream",
     "text": [
      "The value of the 2/1 is 2.0\n",
      "========================================\n",
      "The value of the 2/2 is 1.0\n",
      "========================================\n",
      "We cannot able to peform the 2/a. It raise an Error. And, the error is <class 'ValueError'>\n",
      "========================================\n",
      "We cannot able to peform the 2/0. It raise an Error. And, the error is <class 'ZeroDivisionError'>\n",
      "========================================\n",
      "We cannot able to peform the 2/[1, 2, 3]. It raise an Error. And, the error is <class 'TypeError'>\n",
      "========================================\n"
     ]
    }
   ],
   "source": [
    "import sys\n",
    "def myfunction(n):  \n",
    "    example_list=[1,2,'a',0,[1,2,3]]\n",
    "    for i in example_list:\n",
    "        try:\n",
    "            print(\"The value of the {}/{} is {}\".format(n,i,n/int(i)))\n",
    "        except:\n",
    "            print(\"We cannot able to peform the {}/{}. It raise an Error. And, the error is {}\".format(n,i,sys.exc_info()[0]))\n",
    "        print(\"========================================\")\n",
    "\n",
    "myfunction(2)"
   ]
  },
  {
   "cell_type": "code",
   "execution_count": 4,
   "id": "d2d0ce2d",
   "metadata": {},
   "outputs": [
    {
     "name": "stdout",
     "output_type": "stream",
     "text": [
      "The value of the 2/1 is 2.0\n",
      "========================================\n",
      "The value of the 2/2 is 1.0\n",
      "========================================\n",
      "invalid literal for int() with base 10: 'a'\n",
      "========================================\n",
      "division by zero\n",
      "========================================\n",
      "int() argument must be a string, a bytes-like object or a number, not 'list'\n",
      "========================================\n",
      "invalid literal for int() with base 10: 'five'\n",
      "========================================\n",
      "The value of the 2/5.8 is 0.4\n",
      "========================================\n"
     ]
    }
   ],
   "source": [
    "def myfunction(n):  \n",
    "    example_list=[1,2,'a',0,[1,2,3],\"five\",5.8]\n",
    "    for i in example_list:\n",
    "        try:\n",
    "            print(\"The value of the {}/{} is {}\".format(n,i,n/int(i)))\n",
    "        except Exception as e:\n",
    "            print(e)\n",
    "        print(\"========================================\")\n",
    "\n",
    "myfunction(2)"
   ]
  },
  {
   "cell_type": "code",
   "execution_count": 5,
   "id": "f608db7c",
   "metadata": {},
   "outputs": [
    {
     "name": "stdout",
     "output_type": "stream",
     "text": [
      "division by zero\n",
      "ZeroDivisionError\n",
      "finally\n"
     ]
    }
   ],
   "source": [
    "# Program_3\n",
    "\n",
    "\"\"\"\n",
    "we can use the \"try\" block through the \"except\",\"else\" and \"finally\"\n",
    "\n",
    "try : in try block, we write risky(block lets you test a block of code for errors.)\n",
    "except : in except block, we handle the error, means we provide the information about the error.\n",
    "else : if there is no error then statements inside the else block execute.\n",
    "finally : this block execute always. no matter whether there is an error or not.\n",
    "\n",
    "\"\"\"\n",
    "\n",
    "class test():\n",
    "    def maths(self):\n",
    "        try:\n",
    "            self.score()\n",
    "        except ZeroDivisionError as z :\n",
    "            print(z)\n",
    "            print(\"ZeroDivisionError\")\n",
    "        else:\n",
    "            print(\"no exception\")\n",
    "        finally:\n",
    "            print(\"finally\")\n",
    "    def score(self):\n",
    "        print(100/0)\n",
    "t=test()\n",
    "t.maths()"
   ]
  },
  {
   "cell_type": "code",
   "execution_count": 6,
   "id": "aace436e",
   "metadata": {},
   "outputs": [
    {
     "ename": "SyntaxError",
     "evalue": "invalid syntax (Temp/ipykernel_11440/787197335.py, line 3)",
     "output_type": "error",
     "traceback": [
      "\u001b[1;36m  File \u001b[1;32m\"C:\\Users\\jilla\\AppData\\Local\\Temp/ipykernel_11440/787197335.py\"\u001b[1;36m, line \u001b[1;32m3\u001b[0m\n\u001b[1;33m    try:\u001b[0m\n\u001b[1;37m    ^\u001b[0m\n\u001b[1;31mSyntaxError\u001b[0m\u001b[1;31m:\u001b[0m invalid syntax\n"
     ]
    }
   ],
   "source": [
    "def f(num):\n",
    "    print(int(num)\n",
    "try:\n",
    "    print(f(\"Five\"))\n",
    "except Exception as e:\n",
    "    print(e)"
   ]
  },
  {
   "cell_type": "code",
   "execution_count": 7,
   "id": "222f1206",
   "metadata": {},
   "outputs": [
    {
     "name": "stdout",
     "output_type": "stream",
     "text": [
      "name 'a' is not defined\n"
     ]
    }
   ],
   "source": [
    "# Raising the name error and handling it\n",
    "\n",
    "try:  # This is the block that Where we put the risk code\n",
    "    print(a) # we are trying to print the undefind variable \"a\"\n",
    "except Exception as e: # If occure in the try block, then this block gives the information about the error\n",
    "    print(e)"
   ]
  },
  {
   "cell_type": "code",
   "execution_count": 8,
   "id": "a5b65da1",
   "metadata": {},
   "outputs": [
    {
     "name": "stdout",
     "output_type": "stream",
     "text": [
      "name 'x' is not defined\n",
      "None\n"
     ]
    }
   ],
   "source": [
    "def a():\n",
    "    print(1/0)\n",
    "def b():\n",
    "    print(x)\n",
    "    print(a())\n",
    "\n",
    "def c():\n",
    "    try:\n",
    "        print(b())\n",
    "    except Exception as e:\n",
    "        print(e)\n",
    "print(c())"
   ]
  },
  {
   "cell_type": "code",
   "execution_count": 9,
   "id": "f5702799",
   "metadata": {},
   "outputs": [
    {
     "ename": "SyntaxError",
     "evalue": "default 'except:' must be last (Temp/ipykernel_11440/4272811725.py, line 2)",
     "output_type": "error",
     "traceback": [
      "\u001b[1;36m  File \u001b[1;32m\"C:\\Users\\jilla\\AppData\\Local\\Temp/ipykernel_11440/4272811725.py\"\u001b[1;36m, line \u001b[1;32m2\u001b[0m\n\u001b[1;33m    print(x)\u001b[0m\n\u001b[1;37m    ^\u001b[0m\n\u001b[1;31mSyntaxError\u001b[0m\u001b[1;31m:\u001b[0m default 'except:' must be last\n"
     ]
    }
   ],
   "source": [
    "try:\n",
    "    print(x)\n",
    "except:\n",
    "    print(\"x is not defind\")\n",
    "except:\n",
    "    print(\"something went wrong.......\")"
   ]
  },
  {
   "cell_type": "code",
   "execution_count": 10,
   "id": "380a6734",
   "metadata": {},
   "outputs": [
    {
     "name": "stdout",
     "output_type": "stream",
     "text": [
      " file not find\n"
     ]
    }
   ],
   "source": [
    "try:\n",
    "    f=open(\"myfile.txt\")\n",
    "except:\n",
    "    print(\" file not find\")"
   ]
  },
  {
   "cell_type": "code",
   "execution_count": 11,
   "id": "ea240f91",
   "metadata": {},
   "outputs": [
    {
     "ename": "ZeroDivisionError",
     "evalue": "division by zero",
     "output_type": "error",
     "traceback": [
      "\u001b[1;31m---------------------------------------------------------------------------\u001b[0m",
      "\u001b[1;31mZeroDivisionError\u001b[0m                         Traceback (most recent call last)",
      "\u001b[1;32m~\\AppData\\Local\\Temp/ipykernel_11440/3973350870.py\u001b[0m in \u001b[0;36m<module>\u001b[1;34m\u001b[0m\n\u001b[0;32m     17\u001b[0m \u001b[1;33m\u001b[0m\u001b[0m\n\u001b[0;32m     18\u001b[0m \u001b[0mt\u001b[0m\u001b[1;33m=\u001b[0m\u001b[0mTest\u001b[0m\u001b[1;33m(\u001b[0m\u001b[1;33m)\u001b[0m\u001b[1;33m\u001b[0m\u001b[1;33m\u001b[0m\u001b[0m\n\u001b[1;32m---> 19\u001b[1;33m \u001b[0mt\u001b[0m\u001b[1;33m.\u001b[0m\u001b[0mstuff\u001b[0m\u001b[1;33m(\u001b[0m\u001b[1;33m)\u001b[0m\u001b[1;33m\u001b[0m\u001b[1;33m\u001b[0m\u001b[0m\n\u001b[0m",
      "\u001b[1;32m~\\AppData\\Local\\Temp/ipykernel_11440/3973350870.py\u001b[0m in \u001b[0;36mstuff\u001b[1;34m(self)\u001b[0m\n\u001b[0;32m      8\u001b[0m \u001b[1;32mclass\u001b[0m \u001b[0mTest\u001b[0m\u001b[1;33m:\u001b[0m\u001b[1;33m\u001b[0m\u001b[1;33m\u001b[0m\u001b[0m\n\u001b[0;32m      9\u001b[0m     \u001b[1;32mdef\u001b[0m \u001b[0mstuff\u001b[0m\u001b[1;33m(\u001b[0m\u001b[0mself\u001b[0m\u001b[1;33m)\u001b[0m\u001b[1;33m:\u001b[0m\u001b[1;33m\u001b[0m\u001b[1;33m\u001b[0m\u001b[0m\n\u001b[1;32m---> 10\u001b[1;33m         \u001b[0mself\u001b[0m\u001b[1;33m.\u001b[0m\u001b[0mdoStuff\u001b[0m\u001b[1;33m(\u001b[0m\u001b[1;33m)\u001b[0m  \u001b[1;31m# calling the instance method \"doStuff()\"\u001b[0m\u001b[1;33m\u001b[0m\u001b[1;33m\u001b[0m\u001b[0m\n\u001b[0m\u001b[0;32m     11\u001b[0m \u001b[1;33m\u001b[0m\u001b[0m\n\u001b[0;32m     12\u001b[0m     \u001b[1;32mdef\u001b[0m \u001b[0mdoStuff\u001b[0m\u001b[1;33m(\u001b[0m\u001b[0mself\u001b[0m\u001b[1;33m)\u001b[0m\u001b[1;33m:\u001b[0m\u001b[1;33m\u001b[0m\u001b[1;33m\u001b[0m\u001b[0m\n",
      "\u001b[1;32m~\\AppData\\Local\\Temp/ipykernel_11440/3973350870.py\u001b[0m in \u001b[0;36mdoStuff\u001b[1;34m(self)\u001b[0m\n\u001b[0;32m     11\u001b[0m \u001b[1;33m\u001b[0m\u001b[0m\n\u001b[0;32m     12\u001b[0m     \u001b[1;32mdef\u001b[0m \u001b[0mdoStuff\u001b[0m\u001b[1;33m(\u001b[0m\u001b[0mself\u001b[0m\u001b[1;33m)\u001b[0m\u001b[1;33m:\u001b[0m\u001b[1;33m\u001b[0m\u001b[1;33m\u001b[0m\u001b[0m\n\u001b[1;32m---> 13\u001b[1;33m         \u001b[0mself\u001b[0m\u001b[1;33m.\u001b[0m\u001b[0mdoMoreStuff\u001b[0m\u001b[1;33m(\u001b[0m\u001b[1;33m)\u001b[0m   \u001b[1;31m# calling the instance method \"doMoreStuff()\"\u001b[0m\u001b[1;33m\u001b[0m\u001b[1;33m\u001b[0m\u001b[0m\n\u001b[0m\u001b[0;32m     14\u001b[0m \u001b[1;33m\u001b[0m\u001b[0m\n\u001b[0;32m     15\u001b[0m     \u001b[1;32mdef\u001b[0m \u001b[0mdoMoreStuff\u001b[0m\u001b[1;33m(\u001b[0m\u001b[0mself\u001b[0m\u001b[1;33m)\u001b[0m\u001b[1;33m:\u001b[0m\u001b[1;33m\u001b[0m\u001b[1;33m\u001b[0m\u001b[0m\n",
      "\u001b[1;32m~\\AppData\\Local\\Temp/ipykernel_11440/3973350870.py\u001b[0m in \u001b[0;36mdoMoreStuff\u001b[1;34m(self)\u001b[0m\n\u001b[0;32m     14\u001b[0m \u001b[1;33m\u001b[0m\u001b[0m\n\u001b[0;32m     15\u001b[0m     \u001b[1;32mdef\u001b[0m \u001b[0mdoMoreStuff\u001b[0m\u001b[1;33m(\u001b[0m\u001b[0mself\u001b[0m\u001b[1;33m)\u001b[0m\u001b[1;33m:\u001b[0m\u001b[1;33m\u001b[0m\u001b[1;33m\u001b[0m\u001b[0m\n\u001b[1;32m---> 16\u001b[1;33m         \u001b[0mprint\u001b[0m\u001b[1;33m(\u001b[0m\u001b[1;36m2\u001b[0m\u001b[1;33m/\u001b[0m\u001b[1;36m0\u001b[0m\u001b[1;33m)\u001b[0m      \u001b[1;31m# this line raise an error\u001b[0m\u001b[1;33m\u001b[0m\u001b[1;33m\u001b[0m\u001b[0m\n\u001b[0m\u001b[0;32m     17\u001b[0m \u001b[1;33m\u001b[0m\u001b[0m\n\u001b[0;32m     18\u001b[0m \u001b[0mt\u001b[0m\u001b[1;33m=\u001b[0m\u001b[0mTest\u001b[0m\u001b[1;33m(\u001b[0m\u001b[1;33m)\u001b[0m\u001b[1;33m\u001b[0m\u001b[1;33m\u001b[0m\u001b[0m\n",
      "\u001b[1;31mZeroDivisionError\u001b[0m: division by zero"
     ]
    }
   ],
   "source": [
    "# Program_4\n",
    "\n",
    "\"\"\"\n",
    "raising exception \n",
    "\n",
    "\"\"\"\n",
    "\n",
    "class Test:\n",
    "    def stuff(self):\n",
    "        self.doStuff()  # calling the instance method \"doStuff()\"\n",
    "        \n",
    "    def doStuff(self):\n",
    "        self.doMoreStuff()   # calling the instance method \"doMoreStuff()\"\n",
    "        \n",
    "    def doMoreStuff(self):\n",
    "        print(2/0)      # this line raise an error\n",
    "        \n",
    "t=Test()\n",
    "t.stuff()"
   ]
  },
  {
   "cell_type": "code",
   "execution_count": 12,
   "id": "0ce97598",
   "metadata": {},
   "outputs": [
    {
     "name": "stdout",
     "output_type": "stream",
     "text": [
      "error\n"
     ]
    }
   ],
   "source": [
    "# another way of handling the error raised in the program_4\n",
    "\n",
    "class Test:\n",
    "    def stuff(self):\n",
    "        self.doStuff()\n",
    "        \n",
    "    def doStuff(self):\n",
    "        try:\n",
    "            self.doMoreStuff()\n",
    "        except:\n",
    "            print(\"error\")\n",
    "                \n",
    "    def doMoreStuff(self):\n",
    "        print(2/0)\n",
    "t=Test()\n",
    "t.stuff()\n"
   ]
  },
  {
   "cell_type": "code",
   "execution_count": 14,
   "id": "52f7aafb",
   "metadata": {},
   "outputs": [
    {
     "ename": "SyntaxError",
     "evalue": "unexpected EOF while parsing (Temp/ipykernel_11440/3162289756.py, line 3)",
     "output_type": "error",
     "traceback": [
      "\u001b[1;36m  File \u001b[1;32m\"C:\\Users\\jilla\\AppData\\Local\\Temp/ipykernel_11440/3162289756.py\"\u001b[1;36m, line \u001b[1;32m3\u001b[0m\n\u001b[1;33m    a,b,c=[int(x) for x in input(\"enter the date :\").split()]\u001b[0m\n\u001b[1;37m                                                             ^\u001b[0m\n\u001b[1;31mSyntaxError\u001b[0m\u001b[1;31m:\u001b[0m unexpected EOF while parsing\n"
     ]
    }
   ],
   "source": [
    "#Handling Syntax Error : -\n",
    "try:\n",
    "    a,b,c=[int(x) for x in input(\"enter the date :\").split()]"
   ]
  },
  {
   "cell_type": "code",
   "execution_count": null,
   "id": "cdd6a3f5",
   "metadata": {},
   "outputs": [],
   "source": [
    "# Handling the error raised in the above program ( Program_4)\n",
    "\n",
    "class Test:\n",
    "    def stuff(self):\n",
    "        self.doStuff()\n",
    "        \n",
    "    def doStuff(self):\n",
    "        self.doMoreStuff()\n",
    "        \n",
    "    def doMoreStuff(self):\n",
    "        try:\n",
    "            print(2/0)\n",
    "        except:\n",
    "            print(\"error\")\n",
    "t=Test()http://localhost:8888/notebooks/My%20Files/exceptional%20haddling.ipynb#Customized-Error\n",
    "t.stuff()"
   ]
  },
  {
   "cell_type": "markdown",
   "id": "ae7704e3",
   "metadata": {},
   "source": [
    "Customized Error\n",
    "Errors that are raised by the use.\n",
    "\n",
    "Question :- How to raise a customized Error ????\n",
    "\n",
    "Answer :- By inheritin the Eception class"
   ]
  },
  {
   "cell_type": "code",
   "execution_count": 15,
   "id": "f2148b51",
   "metadata": {},
   "outputs": [
    {
     "name": "stdout",
     "output_type": "stream",
     "text": [
      "sorry...!! Try to enter a invalied code\n"
     ]
    },
    {
     "ename": "InvaliesCode",
     "evalue": "",
     "output_type": "error",
     "traceback": [
      "\u001b[1;31m---------------------------------------------------------------------------\u001b[0m",
      "\u001b[1;31mInvaliesCode\u001b[0m                              Traceback (most recent call last)",
      "\u001b[1;32m~\\AppData\\Local\\Temp/ipykernel_11440/1154610684.py\u001b[0m in \u001b[0;36m<module>\u001b[1;34m\u001b[0m\n\u001b[0;32m     12\u001b[0m \u001b[1;33m\u001b[0m\u001b[0m\n\u001b[0;32m     13\u001b[0m \u001b[0ma\u001b[0m\u001b[1;33m=\u001b[0m\u001b[0mA\u001b[0m\u001b[1;33m(\u001b[0m\u001b[1;33m)\u001b[0m\u001b[1;33m\u001b[0m\u001b[1;33m\u001b[0m\u001b[0m\n\u001b[1;32m---> 14\u001b[1;33m \u001b[0ma\u001b[0m\u001b[1;33m.\u001b[0m\u001b[0mf\u001b[0m\u001b[1;33m(\u001b[0m\u001b[1;36m234\u001b[0m\u001b[1;33m)\u001b[0m\u001b[1;33m\u001b[0m\u001b[1;33m\u001b[0m\u001b[0m\n\u001b[0m",
      "\u001b[1;32m~\\AppData\\Local\\Temp/ipykernel_11440/1154610684.py\u001b[0m in \u001b[0;36mf\u001b[1;34m(self, code)\u001b[0m\n\u001b[0;32m      8\u001b[0m             \u001b[0mprint\u001b[0m\u001b[1;33m(\u001b[0m\u001b[1;34m\"ok!! continue the process\"\u001b[0m\u001b[1;33m)\u001b[0m\u001b[1;33m\u001b[0m\u001b[1;33m\u001b[0m\u001b[0m\n\u001b[0;32m      9\u001b[0m         \u001b[1;32melse\u001b[0m\u001b[1;33m:\u001b[0m\u001b[1;33m\u001b[0m\u001b[1;33m\u001b[0m\u001b[0m\n\u001b[1;32m---> 10\u001b[1;33m             \u001b[1;32mraise\u001b[0m \u001b[0mInvaliesCode\u001b[0m\u001b[1;33m\u001b[0m\u001b[1;33m\u001b[0m\u001b[0m\n\u001b[0m\u001b[0;32m     11\u001b[0m \u001b[1;33m\u001b[0m\u001b[0m\n\u001b[0;32m     12\u001b[0m \u001b[1;33m\u001b[0m\u001b[0m\n",
      "\u001b[1;31mInvaliesCode\u001b[0m: "
     ]
    }
   ],
   "source": [
    "class InvaliesCode(Exception):\n",
    "    def __init__(self):\n",
    "        print(\"sorry...!! Try to enter a invalied code\")\n",
    "        \n",
    "class A:\n",
    "    def f(self,code):\n",
    "        if(code==1234):\n",
    "            print(\"ok!! continue the process\")\n",
    "        else:\n",
    "            raise InvaliesCode\n",
    "\n",
    "            \n",
    "a=A()\n",
    "a.f(234)"
   ]
  },
  {
   "cell_type": "code",
   "execution_count": 16,
   "id": "69df5d41",
   "metadata": {},
   "outputs": [
    {
     "name": "stdout",
     "output_type": "stream",
     "text": [
      "inside the if block\n",
      "You are going to get zero division error\n"
     ]
    },
    {
     "ename": "Myexception",
     "evalue": "",
     "output_type": "error",
     "traceback": [
      "\u001b[1;31m---------------------------------------------------------------------------\u001b[0m",
      "\u001b[1;31mMyexception\u001b[0m                               Traceback (most recent call last)",
      "\u001b[1;32m~\\AppData\\Local\\Temp/ipykernel_11440/2678078405.py\u001b[0m in \u001b[0;36m<module>\u001b[1;34m\u001b[0m\n\u001b[0;32m     18\u001b[0m \u001b[1;33m\u001b[0m\u001b[0m\n\u001b[0;32m     19\u001b[0m \u001b[1;33m\u001b[0m\u001b[0m\n\u001b[1;32m---> 20\u001b[1;33m \u001b[0mA\u001b[0m\u001b[1;33m(\u001b[0m\u001b[1;36m1\u001b[0m\u001b[1;33m,\u001b[0m\u001b[1;36m0\u001b[0m\u001b[1;33m)\u001b[0m\u001b[1;33m\u001b[0m\u001b[1;33m\u001b[0m\u001b[0m\n\u001b[0m",
      "\u001b[1;32m~\\AppData\\Local\\Temp/ipykernel_11440/2678078405.py\u001b[0m in \u001b[0;36m__init__\u001b[1;34m(selfr, a, b)\u001b[0m\n\u001b[0;32m      7\u001b[0m         \u001b[1;32mif\u001b[0m\u001b[1;33m(\u001b[0m\u001b[0mb\u001b[0m\u001b[1;33m==\u001b[0m\u001b[1;36m0\u001b[0m\u001b[1;33m)\u001b[0m\u001b[1;33m:\u001b[0m\u001b[1;33m\u001b[0m\u001b[1;33m\u001b[0m\u001b[0m\n\u001b[0;32m      8\u001b[0m             \u001b[0mprint\u001b[0m\u001b[1;33m(\u001b[0m\u001b[1;34m\"inside the if block\"\u001b[0m\u001b[1;33m)\u001b[0m\u001b[1;33m\u001b[0m\u001b[1;33m\u001b[0m\u001b[0m\n\u001b[1;32m----> 9\u001b[1;33m             \u001b[1;32mraise\u001b[0m \u001b[0mMyexception\u001b[0m\u001b[1;33m\u001b[0m\u001b[1;33m\u001b[0m\u001b[0m\n\u001b[0m\u001b[0;32m     10\u001b[0m         \u001b[1;32melse\u001b[0m\u001b[1;33m:\u001b[0m\u001b[1;33m\u001b[0m\u001b[1;33m\u001b[0m\u001b[0m\n\u001b[0;32m     11\u001b[0m             \u001b[0mprint\u001b[0m\u001b[1;33m\u001b[0m\u001b[1;33m\u001b[0m\u001b[0m\n",
      "\u001b[1;31mMyexception\u001b[0m: "
     ]
    }
   ],
   "source": [
    "class Myexception(Exception):\n",
    "    def __init__(self):\n",
    "        print(\"You are going to get zero division error\")\n",
    "\n",
    "class A:\n",
    "    def __init__(selfr,a,b):\n",
    "        if(b==0):\n",
    "            print(\"inside the if block\")\n",
    "            raise Myexception\n",
    "        else:\n",
    "            print\n",
    "            print(a/b)\n",
    "            \n",
    "            \n",
    "class B(A):\n",
    "    pass\n",
    "\n",
    "\n",
    "\n",
    "A(1,0)"
   ]
  },
  {
   "cell_type": "code",
   "execution_count": null,
   "id": "9a3fe698",
   "metadata": {},
   "outputs": [],
   "source": []
  }
 ],
 "metadata": {
  "kernelspec": {
   "display_name": "Python 3 (ipykernel)",
   "language": "python",
   "name": "python3"
  },
  "language_info": {
   "codemirror_mode": {
    "name": "ipython",
    "version": 3
   },
   "file_extension": ".py",
   "mimetype": "text/x-python",
   "name": "python",
   "nbconvert_exporter": "python",
   "pygments_lexer": "ipython3",
   "version": "3.9.7"
  }
 },
 "nbformat": 4,
 "nbformat_minor": 5
}
