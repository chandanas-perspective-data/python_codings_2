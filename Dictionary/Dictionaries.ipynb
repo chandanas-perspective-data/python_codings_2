{
 "cells": [
  {
   "cell_type": "markdown",
   "id": "0ce25392",
   "metadata": {},
   "source": [
    "### Dictionaries\n"
   ]
  },
  {
   "cell_type": "markdown",
   "id": "f433ab2a",
   "metadata": {},
   "source": [
    "Dictionary represents a group of elements arranged in the form of keys-value pairs.\n",
    "\n",
    "In a dictionary, the first element is considered as 'key' and the immediate next element is taken as its 'value'.\n",
    " \n",
    "The key and value are separated by a colon(:).\n",
    "\n",
    "It does not allow duplicate keys.\n",
    "\n",
    "It is mutable, and ordered."
   ]
  },
  {
   "cell_type": "code",
   "execution_count": 6,
   "id": "64c57bc4",
   "metadata": {},
   "outputs": [
    {
     "name": "stdout",
     "output_type": "stream",
     "text": [
      "{'Name': 'ABC', 'Id': 12, 'Salary': 2000}\n"
     ]
    }
   ],
   "source": [
    "dict={'Name':'ABC','Id':12,'Salary':2000}\n",
    "print(dict)\n"
   ]
  },
  {
   "cell_type": "code",
   "execution_count": 16,
   "id": "9e8ff5d3",
   "metadata": {},
   "outputs": [
    {
     "name": "stdout",
     "output_type": "stream",
     "text": [
      "name= ABC\n",
      "id= 12\n",
      "Salary= 2000\n"
     ]
    }
   ],
   "source": [
    "dict={'Name':'ABC','Id':12,'Salary':2000}\n",
    "print('name=',dict['Name'])\n",
    "print('id=',dict['Id'])\n",
    "print('Salary=',dict['Salary'])\n"
   ]
  },
  {
   "cell_type": "code",
   "execution_count": 17,
   "id": "2a891254",
   "metadata": {},
   "outputs": [
    {
     "name": "stdout",
     "output_type": "stream",
     "text": [
      "No of key-values pairs = 3\n"
     ]
    }
   ],
   "source": [
    "dict={'Name':'ABC','Id':12,'Salary':2000}\n",
    "n=len(dict)\n",
    "print('No of key-values pairs =',n)\n"
   ]
  },
  {
   "cell_type": "code",
   "execution_count": 19,
   "id": "dcd9219c",
   "metadata": {},
   "outputs": [
    {
     "name": "stdout",
     "output_type": "stream",
     "text": [
      "{}\n"
     ]
    }
   ],
   "source": [
    "# clear() Removes all keys-value pair from dictionary\n",
    "dict={'name':'abc','id':11,'salary':1000,'age':23}\n",
    "dict.clear()\n",
    "print(dict)"
   ]
  },
  {
   "cell_type": "code",
   "execution_count": 21,
   "id": "192d83a0",
   "metadata": {},
   "outputs": [
    {
     "name": "stdout",
     "output_type": "stream",
     "text": [
      "{'name': 'abc', 'id': 11, 'salary': 1000, 'age': 23}\n"
     ]
    }
   ],
   "source": [
    "# copy() copies all elements from 'd' into new dictionary\n",
    "dict={'name':'abc','id':11,'salary':1000,'age':23}\n",
    "d=dict.copy()\n",
    "print(d)"
   ]
  },
  {
   "cell_type": "code",
   "execution_count": 1,
   "id": "a636675b",
   "metadata": {},
   "outputs": [
    {
     "name": "stdout",
     "output_type": "stream",
     "text": [
      "keys in dic= dict_keys(['name', 'id', 'salary', 'age'])\n",
      "values in dict= dict_values(['abc', 11, 1000, 23])\n",
      "item in dict= dict_items([('name', 'abc'), ('id', 11), ('salary', 1000), ('age', 23)])\n"
     ]
    }
   ],
   "source": [
    "dict={'name':'abc','id':11,'salary':1000,'age':23}\n",
    "print('keys in dic=',dict.keys())\n",
    "print(\"values in dict=\",dict.values())\n",
    "print('item in dict=',dict.items())"
   ]
  },
  {
   "cell_type": "code",
   "execution_count": 2,
   "id": "df838830",
   "metadata": {},
   "outputs": [
    {
     "name": "stdout",
     "output_type": "stream",
     "text": [
      "how many elements  3\n",
      "enter keys: chandu\n",
      " enter values: 12\n",
      "enter keys: vamshi\n",
      " enter values: 13\n",
      "enter keys: siddu\n",
      " enter values: 14\n",
      "the dict is: {'chandu': 12, 'vamshi': 13, 'siddu': 14}\n"
     ]
    }
   ],
   "source": [
    "x={}\n",
    "print('how many elements ',end=\" \")\n",
    "n=int(input())\n",
    "for i in range(n):\n",
    "    print('enter keys:',end=\" \")\n",
    "    k=input()\n",
    "    print(' enter values:',end=\" \")\n",
    "    v=int(input())\n",
    "    x.update({k:v})\n",
    "print('the dict is:',x )\n",
    "    "
   ]
  },
  {
   "cell_type": "code",
   "execution_count": 6,
   "id": "cba4e846",
   "metadata": {},
   "outputs": [
    {
     "name": "stdout",
     "output_type": "stream",
     "text": [
      "red\n",
      "green\n",
      "yellow\n",
      "blue\n",
      "r\n",
      "g\n",
      "y\n",
      "b\n",
      "key=red value=r\n",
      "key=green value=g\n",
      "key=yellow value=y\n",
      "key=blue value=b\n"
     ]
    }
   ],
   "source": [
    "colors={'red':'r','green':'g',\"yellow\":\"y\",'blue':\"b\"}\n",
    "for k in colors:\n",
    "    print(k)\n",
    "for k in colors:\n",
    "    print(colors[k])\n",
    "for k,v in colors.items():\n",
    "    print('key={} value={}'.format(k,v))"
   ]
  },
  {
   "cell_type": "code",
   "execution_count": 9,
   "id": "6376fd41",
   "metadata": {},
   "outputs": [
    {
     "name": "stdout",
     "output_type": "stream",
     "text": [
      "{'red': 0, 'green': 0, 'yellow': 0, 'blue': 0}\n"
     ]
    }
   ],
   "source": [
    "# fromkeys() return a dictionary with the specified keys and values\n",
    "colors=('red','green','yellow','blue')\n",
    "y=0\n",
    "x=dict.fromkeys(colors,y)\n",
    "print(x)"
   ]
  },
  {
   "cell_type": "code",
   "execution_count": 11,
   "id": "b185d265",
   "metadata": {},
   "outputs": [
    {
     "name": "stdout",
     "output_type": "stream",
     "text": [
      "11\n"
     ]
    }
   ],
   "source": [
    "# get() the method returns the value of the item with the specified key.\n",
    "dict={'name':'abc','id':11,'salary':1000,'age':23}\n",
    "x=dict.get('id')\n",
    "print(x)"
   ]
  },
  {
   "cell_type": "code",
   "execution_count": 13,
   "id": "84b2fd5c",
   "metadata": {},
   "outputs": [
    {
     "name": "stdout",
     "output_type": "stream",
     "text": [
      "{'name': 'abc', 'id': 11, 'salary': 1000, 'age': 23, 'color': 'red'}\n"
     ]
    }
   ],
   "source": [
    "# update() method insert the specified items to the dictionary\n",
    "dict={'name':'abc','id':11,'salary':1000,'age':23}\n",
    "dict.update({'color':'red'})\n",
    "print(dict)"
   ]
  },
  {
   "cell_type": "code",
   "execution_count": 1,
   "id": "2f61fb8a",
   "metadata": {},
   "outputs": [
    {
     "name": "stdout",
     "output_type": "stream",
     "text": [
      "{'id': 11, 'salary': 1000, 'age': 23}\n"
     ]
    }
   ],
   "source": [
    "# pop() remove the element with the specified key\n",
    "dict={'name':'abc','id':11,'salary':1000,'age':23}\n",
    "dict.pop('name')\n",
    "print(dict)"
   ]
  },
  {
   "cell_type": "code",
   "execution_count": 4,
   "id": "bce65f16",
   "metadata": {},
   "outputs": [
    {
     "name": "stdout",
     "output_type": "stream",
     "text": [
      "{'name': 'abc', 'id': 11, 'salary': 1000}\n"
     ]
    }
   ],
   "source": [
    "dict={'name':'abc','id':11,'salary':1000,'age':23}\n",
    "dict.pop('age')\n",
    "print(dict)"
   ]
  },
  {
   "cell_type": "code",
   "execution_count": 5,
   "id": "a467314d",
   "metadata": {},
   "outputs": [
    {
     "name": "stdout",
     "output_type": "stream",
     "text": [
      "{'name': 'abc', 'id': 11, 'salary': 1000}\n"
     ]
    }
   ],
   "source": [
    "# popitem() meyhod removes the item that was last inserted into dictionary\n",
    "dict={'name':'abc','id':11,'salary':1000,'age':23}\n",
    "dict.popitem()\n",
    "print(dict)"
   ]
  },
  {
   "cell_type": "code",
   "execution_count": 6,
   "id": "07a4082a",
   "metadata": {},
   "outputs": [
    {
     "name": "stdout",
     "output_type": "stream",
     "text": [
      "{'name': 'abc', 'id': 11, 'salary': 1000}\n"
     ]
    }
   ],
   "source": [
    "dict={'name':'abc','id':11,'salary':1000,'age':23}\n",
    "dict.popitem()\n",
    "print(dict)"
   ]
  },
  {
   "cell_type": "code",
   "execution_count": 7,
   "id": "86f4330b",
   "metadata": {},
   "outputs": [
    {
     "name": "stdout",
     "output_type": "stream",
     "text": [
      "('age', 23)\n"
     ]
    }
   ],
   "source": [
    "dict={'name':'abc','id':11,'salary':1000,'age':23}\n",
    "x=dict.popitem()\n",
    "print(x)"
   ]
  }
 ],
 "metadata": {
  "kernelspec": {
   "display_name": "Python 3 (ipykernel)",
   "language": "python",
   "name": "python3"
  },
  "language_info": {
   "codemirror_mode": {
    "name": "ipython",
    "version": 3
   },
   "file_extension": ".py",
   "mimetype": "text/x-python",
   "name": "python",
   "nbconvert_exporter": "python",
   "pygments_lexer": "ipython3",
   "version": "3.9.7"
  }
 },
 "nbformat": 4,
 "nbformat_minor": 5
}
